{
 "cells": [
  {
   "cell_type": "code",
   "execution_count": 2,
   "id": "0989ba64",
   "metadata": {},
   "outputs": [
    {
     "name": "stdout",
     "output_type": "stream",
     "text": [
      "Collecting openai-whisper\n",
      "  Downloading openai-whisper-20230314.tar.gz (792 kB)\n",
      "\u001b[2K     \u001b[38;2;114;156;31m━━━━━━━━━━━━━━━━━━━━━━━━━━━━━━━━━━━━━━━\u001b[0m \u001b[32m792.9/792.9 kB\u001b[0m \u001b[31m6.7 MB/s\u001b[0m eta \u001b[36m0:00:00\u001b[0m[36m0:00:01\u001b[0m[36m0:00:01\u001b[0m\n",
      "\u001b[?25h  Installing build dependencies ... \u001b[?25ldone\n",
      "\u001b[?25h  Getting requirements to build wheel ... \u001b[?25ldone\n",
      "\u001b[?25h  Preparing metadata (pyproject.toml) ... \u001b[?25ldone\n",
      "\u001b[?25hRequirement already satisfied: numpy in /root/mambaforge/lib/python3.10/site-packages (from openai-whisper) (1.23.5)\n",
      "Collecting tiktoken==0.3.1\n",
      "  Downloading tiktoken-0.3.1-cp310-cp310-manylinux_2_17_aarch64.manylinux2014_aarch64.whl (1.6 MB)\n",
      "\u001b[2K     \u001b[38;2;114;156;31m━━━━━━━━━━━━━━━━━━━━━━━━━━━━━━━━━━━━━━━━\u001b[0m \u001b[32m1.6/1.6 MB\u001b[0m \u001b[31m13.0 MB/s\u001b[0m eta \u001b[36m0:00:00\u001b[0m MB/s\u001b[0m eta \u001b[36m0:00:01\u001b[0m:01\u001b[0m\n",
      "\u001b[?25hRequirement already satisfied: torch in /root/mambaforge/lib/python3.10/site-packages (from openai-whisper) (2.0.0)\n",
      "Collecting ffmpeg-python==0.2.0\n",
      "  Downloading ffmpeg_python-0.2.0-py3-none-any.whl (25 kB)\n",
      "Requirement already satisfied: tqdm in /root/mambaforge/lib/python3.10/site-packages (from openai-whisper) (4.64.1)\n",
      "Collecting more-itertools\n",
      "  Downloading more_itertools-9.1.0-py3-none-any.whl (54 kB)\n",
      "\u001b[2K     \u001b[38;2;114;156;31m━━━━━━━━━━━━━━━━━━━━━━━━━━━━━━━━━━━━━━━━\u001b[0m \u001b[32m54.2/54.2 kB\u001b[0m \u001b[31m10.1 MB/s\u001b[0m eta \u001b[36m0:00:00\u001b[0m\n",
      "\u001b[?25hRequirement already satisfied: numba in /root/mambaforge/lib/python3.10/site-packages (from openai-whisper) (0.56.4)\n",
      "Collecting future\n",
      "  Downloading future-0.18.3.tar.gz (840 kB)\n",
      "\u001b[2K     \u001b[38;2;114;156;31m━━━━━━━━━━━━━━━━━━━━━━━━━━━━━━━━━━━━━━━\u001b[0m \u001b[32m840.9/840.9 kB\u001b[0m \u001b[31m3.6 MB/s\u001b[0m eta \u001b[36m0:00:00\u001b[0m[31m3.4 MB/s\u001b[0m eta \u001b[36m0:00:01\u001b[0m\n",
      "\u001b[?25h  Preparing metadata (setup.py) ... \u001b[?25ldone\n",
      "\u001b[?25hRequirement already satisfied: regex>=2022.1.18 in /root/mambaforge/lib/python3.10/site-packages (from tiktoken==0.3.1->openai-whisper) (2022.10.31)\n",
      "Requirement already satisfied: requests>=2.26.0 in /root/mambaforge/lib/python3.10/site-packages (from tiktoken==0.3.1->openai-whisper) (2.28.1)\n",
      "Requirement already satisfied: setuptools in /root/mambaforge/lib/python3.10/site-packages (from numba->openai-whisper) (65.6.3)\n",
      "Requirement already satisfied: llvmlite<0.40,>=0.39.0dev0 in /root/mambaforge/lib/python3.10/site-packages (from numba->openai-whisper) (0.39.1)\n",
      "Requirement already satisfied: typing-extensions in /root/mambaforge/lib/python3.10/site-packages (from torch->openai-whisper) (4.4.0)\n",
      "Requirement already satisfied: sympy in /root/mambaforge/lib/python3.10/site-packages (from torch->openai-whisper) (1.11.1)\n",
      "Requirement already satisfied: filelock in /root/mambaforge/lib/python3.10/site-packages (from torch->openai-whisper) (3.9.0)\n",
      "Requirement already satisfied: jinja2 in /root/mambaforge/lib/python3.10/site-packages (from torch->openai-whisper) (3.1.2)\n",
      "Requirement already satisfied: networkx in /root/mambaforge/lib/python3.10/site-packages (from torch->openai-whisper) (2.8.8)\n",
      "Requirement already satisfied: certifi>=2017.4.17 in /root/mambaforge/lib/python3.10/site-packages (from requests>=2.26.0->tiktoken==0.3.1->openai-whisper) (2022.12.7)\n",
      "Requirement already satisfied: urllib3<1.27,>=1.21.1 in /root/mambaforge/lib/python3.10/site-packages (from requests>=2.26.0->tiktoken==0.3.1->openai-whisper) (1.26.13)\n",
      "Requirement already satisfied: charset-normalizer<3,>=2 in /root/mambaforge/lib/python3.10/site-packages (from requests>=2.26.0->tiktoken==0.3.1->openai-whisper) (2.1.1)\n",
      "Requirement already satisfied: idna<4,>=2.5 in /root/mambaforge/lib/python3.10/site-packages (from requests>=2.26.0->tiktoken==0.3.1->openai-whisper) (3.4)\n",
      "Requirement already satisfied: MarkupSafe>=2.0 in /root/mambaforge/lib/python3.10/site-packages (from jinja2->torch->openai-whisper) (2.1.2)\n",
      "Requirement already satisfied: mpmath>=0.19 in /root/mambaforge/lib/python3.10/site-packages (from sympy->torch->openai-whisper) (1.3.0)\n",
      "Building wheels for collected packages: openai-whisper, future\n",
      "  Building wheel for openai-whisper (pyproject.toml) ... \u001b[?25ldone\n",
      "\u001b[?25h  Created wheel for openai-whisper: filename=openai_whisper-20230314-py3-none-any.whl size=796901 sha256=b1d038b8b3149758161872ab5faabad11e57deeaf8f2495afa641f3b4f5e3722\n",
      "  Stored in directory: /root/.cache/pip/wheels/81/1f/98/4e2b9e1a0138a8f88f9665d85d6b931a68893aa254fbbfd9fb\n",
      "  Building wheel for future (setup.py) ... \u001b[?25ldone\n",
      "\u001b[?25h  Created wheel for future: filename=future-0.18.3-py3-none-any.whl size=492025 sha256=6cd54cc74a1ed9db81c1326d0109466835683f4d87bce666ed016865fa45aba5\n",
      "  Stored in directory: /root/.cache/pip/wheels/69/c0/ce/f2a18105d619f21239a048bcc58e98d8ce47ac824e0531f1a0\n",
      "Successfully built openai-whisper future\n",
      "Installing collected packages: more-itertools, future, tiktoken, ffmpeg-python, openai-whisper\n",
      "Successfully installed ffmpeg-python-0.2.0 future-0.18.3 more-itertools-9.1.0 openai-whisper-20230314 tiktoken-0.3.1\n",
      "\u001b[33mWARNING: Running pip as the 'root' user can result in broken permissions and conflicting behaviour with the system package manager. It is recommended to use a virtual environment instead: https://pip.pypa.io/warnings/venv\u001b[0m\u001b[33m\n",
      "\u001b[0m"
     ]
    }
   ],
   "source": [
    "#hide\n",
    "# setup \n",
    "# https://github.com/openai/whisper\n",
    "!pip install -U openai-whisper\n",
    "# pip install --upgrade --no-deps --force-reinstall git+https://github.com/openai/whisper.git"
   ]
  },
  {
   "cell_type": "code",
   "execution_count": 14,
   "id": "1ee3da54",
   "metadata": {},
   "outputs": [
    {
     "name": "stdout",
     "output_type": "stream",
     "text": [
      "Collecting sounddevice\n",
      "  Downloading sounddevice-0.4.6-py3-none-any.whl (31 kB)\n",
      "Requirement already satisfied: CFFI>=1.0 in /root/mambaforge/lib/python3.10/site-packages (from sounddevice) (1.15.1)\n",
      "Requirement already satisfied: pycparser in /root/mambaforge/lib/python3.10/site-packages (from CFFI>=1.0->sounddevice) (2.21)\n",
      "Installing collected packages: sounddevice\n",
      "Successfully installed sounddevice-0.4.6\n",
      "\u001b[33mWARNING: Running pip as the 'root' user can result in broken permissions and conflicting behaviour with the system package manager. It is recommended to use a virtual environment instead: https://pip.pypa.io/warnings/venv\u001b[0m\u001b[33m\n",
      "\u001b[0mRequirement already satisfied: scipy in /root/mambaforge/lib/python3.10/site-packages (1.10.0)\n",
      "Requirement already satisfied: numpy<1.27.0,>=1.19.5 in /root/mambaforge/lib/python3.10/site-packages (from scipy) (1.23.5)\n",
      "\u001b[33mWARNING: Running pip as the 'root' user can result in broken permissions and conflicting behaviour with the system package manager. It is recommended to use a virtual environment instead: https://pip.pypa.io/warnings/venv\u001b[0m\u001b[33m\n",
      "\u001b[0m"
     ]
    }
   ],
   "source": [
    "#hide\n",
    "!pip install sounddevice\n",
    "!pip install scipy"
   ]
  },
  {
   "cell_type": "code",
   "execution_count": 10,
   "id": "b4f6a5b1",
   "metadata": {},
   "outputs": [
    {
     "name": "stdout",
     "output_type": "stream",
     "text": [
      "Reading package lists... Done\n",
      "\u001b[1;31mE: \u001b[0mCould not get lock /var/lib/apt/lists/lock. It is held by process 28749 (apt)\u001b[0m\n",
      "\u001b[33mN: \u001b[0mBe aware that removing the lock file is not a solution and may break your system.\u001b[0m\n",
      "\u001b[1;31mE: \u001b[0mUnable to lock directory /var/lib/apt/lists/\u001b[0m\n"
     ]
    }
   ],
   "source": [
    "#hide\n",
    "!apt update && apt install ffmpeg -y"
   ]
  },
  {
   "cell_type": "code",
   "execution_count": 12,
   "id": "2a3d2d30",
   "metadata": {},
   "outputs": [
    {
     "name": "stderr",
     "output_type": "stream",
     "text": [
      "100%|███████████████████████████████████████| 139M/139M [00:30<00:00, 4.72MiB/s]\n"
     ]
    }
   ],
   "source": [
    "import whisper\n",
    "\n",
    "model = whisper.load_model(\"base\")"
   ]
  },
  {
   "cell_type": "code",
   "execution_count": 16,
   "id": "16ad9355",
   "metadata": {},
   "outputs": [
    {
     "name": "stdout",
     "output_type": "stream",
     "text": [
      "Reading package lists... Done\n",
      "Building dependency tree... Done\n",
      "Reading state information... Done\n",
      "The following NEW packages will be installed:\n",
      "  libportaudio2\n",
      "0 upgraded, 1 newly installed, 0 to remove and 65 not upgraded.\n",
      "Need to get 59.6 kB of archives.\n",
      "After this operation, 211 kB of additional disk space will be used.\n",
      "Get:1 http://ports.ubuntu.com/ubuntu-ports jammy/universe arm64 libportaudio2 arm64 19.6.0-1.1 [59.6 kB]\n",
      "Fetched 59.6 kB in 1s (47.6 kB/s)     \u001b[0m\u001b[33m\n",
      "perl: warning: Setting locale failed.\n",
      "perl: warning: Please check that your locale settings:\n",
      "\tLANGUAGE = (unset),\n",
      "\tLC_ALL = (unset),\n",
      "\tLC_CTYPE = \"C.UTF-8\",\n",
      "\tLANG = \"en_US.UTF-8\"\n",
      "    are supported and installed on your system.\n",
      "perl: warning: Falling back to the standard locale (\"C\").\n",
      "debconf: delaying package configuration, since apt-utils is not installed\n",
      "\n",
      "\u001b7\u001b[0;23r\u001b8\u001b[1ASelecting previously unselected package libportaudio2:arm64.\n",
      "(Reading database ... 35868 files and directories currently installed.)\n",
      "Preparing to unpack .../libportaudio2_19.6.0-1.1_arm64.deb ...\n",
      "\u001b7\u001b[24;0f\u001b[42m\u001b[30mProgress: [  0%]\u001b[49m\u001b[39m [..........................................................] \u001b8\u001b7\u001b[24;0f\u001b[42m\u001b[30mProgress: [ 20%]\u001b[49m\u001b[39m [###########...............................................] \u001b8Unpacking libportaudio2:arm64 (19.6.0-1.1) ...\n",
      "\u001b7\u001b[24;0f\u001b[42m\u001b[30mProgress: [ 40%]\u001b[49m\u001b[39m [#######################...................................] \u001b8Setting up libportaudio2:arm64 (19.6.0-1.1) ...\n",
      "\u001b7\u001b[24;0f\u001b[42m\u001b[30mProgress: [ 60%]\u001b[49m\u001b[39m [##################################........................] \u001b8\u001b7\u001b[24;0f\u001b[42m\u001b[30mProgress: [ 80%]\u001b[49m\u001b[39m [##############################################............] \u001b8Processing triggers for libc-bin (2.35-0ubuntu3.1) ...\n",
      "\n",
      "\u001b7\u001b[0;24r\u001b8\u001b[1A\u001b[J"
     ]
    }
   ],
   "source": [
    "#hide\n",
    "!apt install libportaudio2"
   ]
  },
  {
   "cell_type": "code",
   "execution_count": 20,
   "id": "60d76d51",
   "metadata": {},
   "outputs": [
    {
     "name": "stdout",
     "output_type": "stream",
     "text": [
      "15\n"
     ]
    }
   ],
   "source": [
    "#hide\n",
    "import sounddevice as sd\n",
    "from scipy.io.wavfile import write\n",
    "\n",
    "# Sampling frequency\n",
    "# Regardless of the sampling rate used in the original audio file, \n",
    "# the audio signal gets resampled to 16kHz (via ffmpeg). Anything grater than 16kHz should work.\n",
    "# see https://github.com/openai/whisper/discussions/870.\n",
    "freq = 44100\n",
    "\n",
    "# Recording duration in seconds\n",
    "duration = int(input())"
   ]
  },
  {
   "cell_type": "code",
   "execution_count": null,
   "id": "ecca9b94",
   "metadata": {},
   "outputs": [],
   "source": [
    "#hide\n",
    "# Start recorder with the given values of \n",
    "# duration and sample frequency.\n",
    "\n",
    "recording = sd.rec(int(duration * freq), \n",
    "                   samplerate=freq, channels=2)\n",
    "\n",
    "# Record audio for the given number of seconds\n",
    "sd.wait()"
   ]
  },
  {
   "cell_type": "code",
   "execution_count": null,
   "id": "5da0b874",
   "metadata": {},
   "outputs": [],
   "source": [
    "#hide\n",
    "write(\"question1.wav\", freq, recording)"
   ]
  },
  {
   "cell_type": "code",
   "execution_count": 32,
   "id": "f0cc3bba",
   "metadata": {},
   "outputs": [
    {
     "name": "stdout",
     "output_type": "stream",
     "text": [
      "what's your audio called?question1.wav\n"
     ]
    }
   ],
   "source": [
    "audio_file = input(\"what's your audio called? \")\n",
    "audio_path = f\"./questions/{audio_file}\""
   ]
  },
  {
   "cell_type": "code",
   "execution_count": 33,
   "id": "90c15fa5",
   "metadata": {},
   "outputs": [
    {
     "name": "stderr",
     "output_type": "stream",
     "text": [
      "/root/mambaforge/lib/python3.10/site-packages/whisper/transcribe.py:114: UserWarning: FP16 is not supported on CPU; using FP32 instead\n",
      "  warnings.warn(\"FP16 is not supported on CPU; using FP32 instead\")\n"
     ]
    }
   ],
   "source": [
    "result = model.transcribe(audio_path)"
   ]
  },
  {
   "cell_type": "code",
   "execution_count": 34,
   "id": "13f8bc17",
   "metadata": {},
   "outputs": [
    {
     "data": {
      "text/plain": [
       "{'text': ' How do you follow Will Smith in the snow?',\n",
       " 'segments': [{'id': 0,\n",
       "   'seek': 0,\n",
       "   'start': 0.0,\n",
       "   'end': 3.24,\n",
       "   'text': ' How do you follow Will Smith in the snow?',\n",
       "   'tokens': [50364,\n",
       "    1012,\n",
       "    360,\n",
       "    291,\n",
       "    1524,\n",
       "    3099,\n",
       "    8538,\n",
       "    294,\n",
       "    264,\n",
       "    5756,\n",
       "    30,\n",
       "    50526],\n",
       "   'temperature': 0.0,\n",
       "   'avg_logprob': -0.2659930999462421,\n",
       "   'compression_ratio': 0.8723404255319149,\n",
       "   'no_speech_prob': 0.02715839259326458}],\n",
       " 'language': 'en'}"
      ]
     },
     "execution_count": 34,
     "metadata": {},
     "output_type": "execute_result"
    }
   ],
   "source": [
    "result"
   ]
  },
  {
   "cell_type": "code",
   "execution_count": 39,
   "id": "1a063cac",
   "metadata": {},
   "outputs": [
    {
     "data": {
      "text/plain": [
       "{'text': ' How do you follow Will Smith in the snow?',\n",
       " 'segments': [{'id': 0,\n",
       "   'seek': 0,\n",
       "   'start': 0.0,\n",
       "   'end': 3.24,\n",
       "   'text': ' How do you follow Will Smith in the snow?',\n",
       "   'tokens': [50364,\n",
       "    1012,\n",
       "    360,\n",
       "    291,\n",
       "    1524,\n",
       "    3099,\n",
       "    8538,\n",
       "    294,\n",
       "    264,\n",
       "    5756,\n",
       "    30,\n",
       "    50526],\n",
       "   'temperature': 0.0,\n",
       "   'avg_logprob': -0.2659930999462421,\n",
       "   'compression_ratio': 0.8723404255319149,\n",
       "   'no_speech_prob': 0.02715839259326458}],\n",
       " 'language': 'en'}"
      ]
     },
     "execution_count": 39,
     "metadata": {},
     "output_type": "execute_result"
    }
   ],
   "source": [
    "result = whisper.transcribe(model, audio_path, language='en', fp16=False)\n",
    "result"
   ]
  },
  {
   "cell_type": "code",
   "execution_count": null,
   "id": "3a3cd7c9",
   "metadata": {},
   "outputs": [],
   "source": []
  }
 ],
 "metadata": {
  "kernelspec": {
   "display_name": "tts",
   "language": "python",
   "name": "tts"
  },
  "language_info": {
   "codemirror_mode": {
    "name": "ipython",
    "version": 3
   },
   "file_extension": ".py",
   "mimetype": "text/x-python",
   "name": "python",
   "nbconvert_exporter": "python",
   "pygments_lexer": "ipython3",
   "version": "3.10.8"
  }
 },
 "nbformat": 4,
 "nbformat_minor": 5
}
